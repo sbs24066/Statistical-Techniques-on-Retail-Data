{
 "cells": [
  {
   "cell_type": "code",
   "execution_count": 1,
   "id": "a9e30ef0",
   "metadata": {},
   "outputs": [],
   "source": [
    "#importing libraries\n",
    "import pandas as pd\n",
    "import statistics as stats\n",
    "from scipy.stats import binom\n",
    "import scipy.stats as st\n",
    "from scipy.stats import norm\n",
    "import numpy as np\n",
    "import seaborn as sns\n",
    "import matplotlib.pyplot as plt\n",
    "from sklearn.preprocessing import LabelEncoder\n",
    "from sklearn.preprocessing import MinMaxScaler"
   ]
  },
  {
   "cell_type": "code",
   "execution_count": 2,
   "id": "cf189c53",
   "metadata": {},
   "outputs": [],
   "source": [
    "#loading the dataset\n",
    "customer_df = pd.read_csv(\"CA1_business_dataset.csv\")"
   ]
  },
  {
   "cell_type": "code",
   "execution_count": 3,
   "id": "555a39f4",
   "metadata": {},
   "outputs": [
    {
     "data": {
      "text/html": [
       "<div>\n",
       "<style scoped>\n",
       "    .dataframe tbody tr th:only-of-type {\n",
       "        vertical-align: middle;\n",
       "    }\n",
       "\n",
       "    .dataframe tbody tr th {\n",
       "        vertical-align: top;\n",
       "    }\n",
       "\n",
       "    .dataframe thead th {\n",
       "        text-align: right;\n",
       "    }\n",
       "</style>\n",
       "<table border=\"1\" class=\"dataframe\">\n",
       "  <thead>\n",
       "    <tr style=\"text-align: right;\">\n",
       "      <th></th>\n",
       "      <th>Customer Satisfaction Score</th>\n",
       "      <th>Response Time</th>\n",
       "      <th>Daily User Logins</th>\n",
       "      <th>Average Session Duration</th>\n",
       "      <th>Survey Response Rate</th>\n",
       "      <th>Transaction Amount</th>\n",
       "      <th>Product Rating</th>\n",
       "      <th>Preferred Communication Channel</th>\n",
       "      <th>Membership Status</th>\n",
       "      <th>Product Category Preference</th>\n",
       "      <th>...</th>\n",
       "      <th>Referral Count</th>\n",
       "      <th>Account Age</th>\n",
       "      <th>Feedback Score</th>\n",
       "      <th>Product Return Rate</th>\n",
       "      <th>Marketing Email Click Rate</th>\n",
       "      <th>Subscription Status</th>\n",
       "      <th>Product Upsell Success</th>\n",
       "      <th>Customer Segment Group</th>\n",
       "      <th>Interest in New Product</th>\n",
       "      <th>Income Level</th>\n",
       "    </tr>\n",
       "  </thead>\n",
       "  <tbody>\n",
       "    <tr>\n",
       "      <th>0</th>\n",
       "      <td>37</td>\n",
       "      <td>95.07</td>\n",
       "      <td>73</td>\n",
       "      <td>59.87</td>\n",
       "      <td>15.60</td>\n",
       "      <td>15.60</td>\n",
       "      <td>6</td>\n",
       "      <td>Email</td>\n",
       "      <td>Yes</td>\n",
       "      <td>Basic</td>\n",
       "      <td>...</td>\n",
       "      <td>18</td>\n",
       "      <td>30</td>\n",
       "      <td>52</td>\n",
       "      <td>Yes</td>\n",
       "      <td>29.12</td>\n",
       "      <td>1</td>\n",
       "      <td>1</td>\n",
       "      <td>C</td>\n",
       "      <td>No</td>\n",
       "      <td>High</td>\n",
       "    </tr>\n",
       "    <tr>\n",
       "      <th>1</th>\n",
       "      <td>79</td>\n",
       "      <td>19.97</td>\n",
       "      <td>51</td>\n",
       "      <td>59.24</td>\n",
       "      <td>4.65</td>\n",
       "      <td>60.75</td>\n",
       "      <td>17</td>\n",
       "      <td>Phone</td>\n",
       "      <td>Yes</td>\n",
       "      <td>Gold</td>\n",
       "      <td>...</td>\n",
       "      <td>12</td>\n",
       "      <td>50</td>\n",
       "      <td>3</td>\n",
       "      <td>No</td>\n",
       "      <td>25.88</td>\n",
       "      <td>1</td>\n",
       "      <td>1</td>\n",
       "      <td>C</td>\n",
       "      <td>No</td>\n",
       "      <td>Low</td>\n",
       "    </tr>\n",
       "    <tr>\n",
       "      <th>2</th>\n",
       "      <td>97</td>\n",
       "      <td>77.51</td>\n",
       "      <td>94</td>\n",
       "      <td>89.48</td>\n",
       "      <td>59.79</td>\n",
       "      <td>92.19</td>\n",
       "      <td>9</td>\n",
       "      <td>SMS</td>\n",
       "      <td>Yes</td>\n",
       "      <td>Platinum</td>\n",
       "      <td>...</td>\n",
       "      <td>54</td>\n",
       "      <td>14</td>\n",
       "      <td>80</td>\n",
       "      <td>Yes</td>\n",
       "      <td>98.69</td>\n",
       "      <td>1</td>\n",
       "      <td>1</td>\n",
       "      <td>C</td>\n",
       "      <td>No</td>\n",
       "      <td>Low</td>\n",
       "    </tr>\n",
       "    <tr>\n",
       "      <th>3</th>\n",
       "      <td>73</td>\n",
       "      <td>77.13</td>\n",
       "      <td>7</td>\n",
       "      <td>35.85</td>\n",
       "      <td>11.59</td>\n",
       "      <td>86.31</td>\n",
       "      <td>62</td>\n",
       "      <td>Email</td>\n",
       "      <td>Yes</td>\n",
       "      <td>Platinum</td>\n",
       "      <td>...</td>\n",
       "      <td>12</td>\n",
       "      <td>71</td>\n",
       "      <td>76</td>\n",
       "      <td>No</td>\n",
       "      <td>77.10</td>\n",
       "      <td>0</td>\n",
       "      <td>1</td>\n",
       "      <td>C</td>\n",
       "      <td>No</td>\n",
       "      <td>Low</td>\n",
       "    </tr>\n",
       "    <tr>\n",
       "      <th>4</th>\n",
       "      <td>3</td>\n",
       "      <td>63.64</td>\n",
       "      <td>31</td>\n",
       "      <td>50.86</td>\n",
       "      <td>90.76</td>\n",
       "      <td>24.93</td>\n",
       "      <td>41</td>\n",
       "      <td>Phone</td>\n",
       "      <td>Yes</td>\n",
       "      <td>Platinum</td>\n",
       "      <td>...</td>\n",
       "      <td>87</td>\n",
       "      <td>80</td>\n",
       "      <td>19</td>\n",
       "      <td>No</td>\n",
       "      <td>53.93</td>\n",
       "      <td>1</td>\n",
       "      <td>0</td>\n",
       "      <td>D</td>\n",
       "      <td>Yes</td>\n",
       "      <td>Medium</td>\n",
       "    </tr>\n",
       "    <tr>\n",
       "      <th>5</th>\n",
       "      <td>43</td>\n",
       "      <td>81.80</td>\n",
       "      <td>86</td>\n",
       "      <td>0.70</td>\n",
       "      <td>51.07</td>\n",
       "      <td>41.74</td>\n",
       "      <td>22</td>\n",
       "      <td>SMS</td>\n",
       "      <td>Yes</td>\n",
       "      <td>Gold</td>\n",
       "      <td>...</td>\n",
       "      <td>96</td>\n",
       "      <td>25</td>\n",
       "      <td>50</td>\n",
       "      <td>No</td>\n",
       "      <td>28.48</td>\n",
       "      <td>1</td>\n",
       "      <td>1</td>\n",
       "      <td>D</td>\n",
       "      <td>No</td>\n",
       "      <td>High</td>\n",
       "    </tr>\n",
       "    <tr>\n",
       "      <th>6</th>\n",
       "      <td>91</td>\n",
       "      <td>23.96</td>\n",
       "      <td>14</td>\n",
       "      <td>48.95</td>\n",
       "      <td>49.61</td>\n",
       "      <td>50.25</td>\n",
       "      <td>50</td>\n",
       "      <td>Email</td>\n",
       "      <td>Yes</td>\n",
       "      <td>Gold</td>\n",
       "      <td>...</td>\n",
       "      <td>84</td>\n",
       "      <td>32</td>\n",
       "      <td>19</td>\n",
       "      <td>No</td>\n",
       "      <td>59.09</td>\n",
       "      <td>0</td>\n",
       "      <td>1</td>\n",
       "      <td>B</td>\n",
       "      <td>Yes</td>\n",
       "      <td>Low</td>\n",
       "    </tr>\n",
       "    <tr>\n",
       "      <th>7</th>\n",
       "      <td>17</td>\n",
       "      <td>69.09</td>\n",
       "      <td>39</td>\n",
       "      <td>93.67</td>\n",
       "      <td>49.61</td>\n",
       "      <td>50.25</td>\n",
       "      <td>50</td>\n",
       "      <td>Phone</td>\n",
       "      <td>Yes</td>\n",
       "      <td>Platinum</td>\n",
       "      <td>...</td>\n",
       "      <td>9</td>\n",
       "      <td>90</td>\n",
       "      <td>90</td>\n",
       "      <td>No</td>\n",
       "      <td>33.90</td>\n",
       "      <td>1</td>\n",
       "      <td>0</td>\n",
       "      <td>C</td>\n",
       "      <td>Yes</td>\n",
       "      <td>Low</td>\n",
       "    </tr>\n",
       "    <tr>\n",
       "      <th>8</th>\n",
       "      <td>64</td>\n",
       "      <td>8.41</td>\n",
       "      <td>16</td>\n",
       "      <td>89.86</td>\n",
       "      <td>60.64</td>\n",
       "      <td>0.92</td>\n",
       "      <td>10</td>\n",
       "      <td>SMS</td>\n",
       "      <td>Yes</td>\n",
       "      <td>Basic</td>\n",
       "      <td>...</td>\n",
       "      <td>24</td>\n",
       "      <td>33</td>\n",
       "      <td>75</td>\n",
       "      <td>No</td>\n",
       "      <td>84.92</td>\n",
       "      <td>0</td>\n",
       "      <td>1</td>\n",
       "      <td>D</td>\n",
       "      <td>Yes</td>\n",
       "      <td>Medium</td>\n",
       "    </tr>\n",
       "    <tr>\n",
       "      <th>9</th>\n",
       "      <td>24</td>\n",
       "      <td>97.30</td>\n",
       "      <td>39</td>\n",
       "      <td>89.20</td>\n",
       "      <td>49.61</td>\n",
       "      <td>50.25</td>\n",
       "      <td>50</td>\n",
       "      <td>Email</td>\n",
       "      <td>Yes</td>\n",
       "      <td>Gold</td>\n",
       "      <td>...</td>\n",
       "      <td>94</td>\n",
       "      <td>95</td>\n",
       "      <td>91</td>\n",
       "      <td>No</td>\n",
       "      <td>1.55</td>\n",
       "      <td>1</td>\n",
       "      <td>0</td>\n",
       "      <td>B</td>\n",
       "      <td>Yes</td>\n",
       "      <td>Low</td>\n",
       "    </tr>\n",
       "  </tbody>\n",
       "</table>\n",
       "<p>10 rows × 25 columns</p>\n",
       "</div>"
      ],
      "text/plain": [
       "   Customer Satisfaction Score  Response Time  Daily User Logins  \\\n",
       "0                           37          95.07                 73   \n",
       "1                           79          19.97                 51   \n",
       "2                           97          77.51                 94   \n",
       "3                           73          77.13                  7   \n",
       "4                            3          63.64                 31   \n",
       "5                           43          81.80                 86   \n",
       "6                           91          23.96                 14   \n",
       "7                           17          69.09                 39   \n",
       "8                           64           8.41                 16   \n",
       "9                           24          97.30                 39   \n",
       "\n",
       "   Average Session Duration  Survey Response Rate  Transaction Amount  \\\n",
       "0                     59.87                 15.60               15.60   \n",
       "1                     59.24                  4.65               60.75   \n",
       "2                     89.48                 59.79               92.19   \n",
       "3                     35.85                 11.59               86.31   \n",
       "4                     50.86                 90.76               24.93   \n",
       "5                      0.70                 51.07               41.74   \n",
       "6                     48.95                 49.61               50.25   \n",
       "7                     93.67                 49.61               50.25   \n",
       "8                     89.86                 60.64                0.92   \n",
       "9                     89.20                 49.61               50.25   \n",
       "\n",
       "   Product Rating Preferred Communication Channel Membership Status  \\\n",
       "0               6                           Email               Yes   \n",
       "1              17                           Phone               Yes   \n",
       "2               9                             SMS               Yes   \n",
       "3              62                           Email               Yes   \n",
       "4              41                           Phone               Yes   \n",
       "5              22                             SMS               Yes   \n",
       "6              50                           Email               Yes   \n",
       "7              50                           Phone               Yes   \n",
       "8              10                             SMS               Yes   \n",
       "9              50                           Email               Yes   \n",
       "\n",
       "  Product Category Preference  ...  Referral Count  Account Age  \\\n",
       "0                       Basic  ...              18           30   \n",
       "1                        Gold  ...              12           50   \n",
       "2                    Platinum  ...              54           14   \n",
       "3                    Platinum  ...              12           71   \n",
       "4                    Platinum  ...              87           80   \n",
       "5                        Gold  ...              96           25   \n",
       "6                        Gold  ...              84           32   \n",
       "7                    Platinum  ...               9           90   \n",
       "8                       Basic  ...              24           33   \n",
       "9                        Gold  ...              94           95   \n",
       "\n",
       "   Feedback Score  Product Return Rate  Marketing Email Click Rate  \\\n",
       "0              52                  Yes                       29.12   \n",
       "1               3                   No                       25.88   \n",
       "2              80                  Yes                       98.69   \n",
       "3              76                   No                       77.10   \n",
       "4              19                   No                       53.93   \n",
       "5              50                   No                       28.48   \n",
       "6              19                   No                       59.09   \n",
       "7              90                   No                       33.90   \n",
       "8              75                   No                       84.92   \n",
       "9              91                   No                        1.55   \n",
       "\n",
       "   Subscription Status  Product Upsell Success  Customer Segment Group  \\\n",
       "0                    1                       1                       C   \n",
       "1                    1                       1                       C   \n",
       "2                    1                       1                       C   \n",
       "3                    0                       1                       C   \n",
       "4                    1                       0                       D   \n",
       "5                    1                       1                       D   \n",
       "6                    0                       1                       B   \n",
       "7                    1                       0                       C   \n",
       "8                    0                       1                       D   \n",
       "9                    1                       0                       B   \n",
       "\n",
       "  Interest in New Product  Income Level  \n",
       "0                      No          High  \n",
       "1                      No           Low  \n",
       "2                      No           Low  \n",
       "3                      No           Low  \n",
       "4                     Yes        Medium  \n",
       "5                      No          High  \n",
       "6                     Yes           Low  \n",
       "7                     Yes           Low  \n",
       "8                     Yes        Medium  \n",
       "9                     Yes           Low  \n",
       "\n",
       "[10 rows x 25 columns]"
      ]
     },
     "execution_count": 3,
     "metadata": {},
     "output_type": "execute_result"
    }
   ],
   "source": [
    "#taking a look at the first 10 observations\n",
    "customer_df.head(10)"
   ]
  },
  {
   "cell_type": "code",
   "execution_count": 4,
   "id": "2bbe05f9",
   "metadata": {},
   "outputs": [
    {
     "data": {
      "text/plain": [
       "(8000, 25)"
      ]
     },
     "execution_count": 4,
     "metadata": {},
     "output_type": "execute_result"
    }
   ],
   "source": [
    "#how many rows/observations and columns/features are there?\n",
    "customer_df.shape"
   ]
  },
  {
   "cell_type": "code",
   "execution_count": 5,
   "id": "f16b6c6a",
   "metadata": {},
   "outputs": [
    {
     "name": "stdout",
     "output_type": "stream",
     "text": [
      "<class 'pandas.core.frame.DataFrame'>\n",
      "RangeIndex: 8000 entries, 0 to 7999\n",
      "Data columns (total 25 columns):\n",
      " #   Column                           Non-Null Count  Dtype  \n",
      "---  ------                           --------------  -----  \n",
      " 0   Customer Satisfaction Score      8000 non-null   int64  \n",
      " 1   Response Time                    8000 non-null   float64\n",
      " 2   Daily User Logins                8000 non-null   int64  \n",
      " 3   Average Session Duration         8000 non-null   float64\n",
      " 4   Survey Response Rate             8000 non-null   float64\n",
      " 5   Transaction Amount               8000 non-null   float64\n",
      " 6   Product Rating                   8000 non-null   int64  \n",
      " 7   Preferred Communication Channel  8000 non-null   object \n",
      " 8   Membership Status                8000 non-null   object \n",
      " 9   Product Category Preference      8000 non-null   object \n",
      " 10  High-Value Purchase Count        8000 non-null   float64\n",
      " 11  Customer Support Calls           8000 non-null   float64\n",
      " 12  Website Click-Through Rate       8000 non-null   int64  \n",
      " 13  Newsletter Open Rate             8000 non-null   float64\n",
      " 14  Social Media Engagement Score    8000 non-null   float64\n",
      " 15  Referral Count                   8000 non-null   int64  \n",
      " 16  Account Age                      8000 non-null   int64  \n",
      " 17  Feedback Score                   8000 non-null   int64  \n",
      " 18  Product Return Rate              8000 non-null   object \n",
      " 19  Marketing Email Click Rate       8000 non-null   float64\n",
      " 20  Subscription Status              8000 non-null   int64  \n",
      " 21  Product Upsell Success           8000 non-null   int64  \n",
      " 22  Customer Segment Group           8000 non-null   object \n",
      " 23  Interest in New Product          8000 non-null   object \n",
      " 24  Income Level                     8000 non-null   object \n",
      "dtypes: float64(9), int64(9), object(7)\n",
      "memory usage: 1.5+ MB\n"
     ]
    }
   ],
   "source": [
    "#Checking correct data type is in each column and no null values are present.\n",
    "customer_df.info()"
   ]
  },
  {
   "cell_type": "code",
   "execution_count": 6,
   "id": "018e5ec0",
   "metadata": {},
   "outputs": [
    {
     "data": {
      "text/plain": [
       "Customer Satisfaction Score        0\n",
       "Response Time                      0\n",
       "Daily User Logins                  0\n",
       "Average Session Duration           0\n",
       "Survey Response Rate               0\n",
       "Transaction Amount                 0\n",
       "Product Rating                     0\n",
       "Preferred Communication Channel    0\n",
       "Membership Status                  0\n",
       "Product Category Preference        0\n",
       "High-Value Purchase Count          0\n",
       "Customer Support Calls             0\n",
       "Website Click-Through Rate         0\n",
       "Newsletter Open Rate               0\n",
       "Social Media Engagement Score      0\n",
       "Referral Count                     0\n",
       "Account Age                        0\n",
       "Feedback Score                     0\n",
       "Product Return Rate                0\n",
       "Marketing Email Click Rate         0\n",
       "Subscription Status                0\n",
       "Product Upsell Success             0\n",
       "Customer Segment Group             0\n",
       "Interest in New Product            0\n",
       "Income Level                       0\n",
       "dtype: int64"
      ]
     },
     "execution_count": 6,
     "metadata": {},
     "output_type": "execute_result"
    }
   ],
   "source": [
    "#double checking for null values\n",
    "customer_df.isnull().sum()"
   ]
  },
  {
   "cell_type": "code",
   "execution_count": 7,
   "id": "74355ff4",
   "metadata": {
    "scrolled": true
   },
   "outputs": [
    {
     "data": {
      "text/html": [
       "<div>\n",
       "<style scoped>\n",
       "    .dataframe tbody tr th:only-of-type {\n",
       "        vertical-align: middle;\n",
       "    }\n",
       "\n",
       "    .dataframe tbody tr th {\n",
       "        vertical-align: top;\n",
       "    }\n",
       "\n",
       "    .dataframe thead th {\n",
       "        text-align: right;\n",
       "    }\n",
       "</style>\n",
       "<table border=\"1\" class=\"dataframe\">\n",
       "  <thead>\n",
       "    <tr style=\"text-align: right;\">\n",
       "      <th></th>\n",
       "      <th>Customer Satisfaction Score</th>\n",
       "      <th>Response Time</th>\n",
       "      <th>Daily User Logins</th>\n",
       "      <th>Average Session Duration</th>\n",
       "      <th>Survey Response Rate</th>\n",
       "      <th>Transaction Amount</th>\n",
       "      <th>Product Rating</th>\n",
       "      <th>High-Value Purchase Count</th>\n",
       "      <th>Customer Support Calls</th>\n",
       "      <th>Website Click-Through Rate</th>\n",
       "      <th>Newsletter Open Rate</th>\n",
       "      <th>Social Media Engagement Score</th>\n",
       "      <th>Referral Count</th>\n",
       "      <th>Account Age</th>\n",
       "      <th>Feedback Score</th>\n",
       "      <th>Marketing Email Click Rate</th>\n",
       "      <th>Subscription Status</th>\n",
       "      <th>Product Upsell Success</th>\n",
       "    </tr>\n",
       "  </thead>\n",
       "  <tbody>\n",
       "    <tr>\n",
       "      <th>count</th>\n",
       "      <td>8000.000000</td>\n",
       "      <td>8000.000000</td>\n",
       "      <td>8000.000000</td>\n",
       "      <td>8000.000000</td>\n",
       "      <td>8000.00000</td>\n",
       "      <td>8000.000000</td>\n",
       "      <td>8000.000000</td>\n",
       "      <td>8000.000000</td>\n",
       "      <td>8000.000000</td>\n",
       "      <td>8000.000000</td>\n",
       "      <td>8000.000000</td>\n",
       "      <td>8000.000000</td>\n",
       "      <td>8000.000000</td>\n",
       "      <td>8000.000000</td>\n",
       "      <td>8000.000000</td>\n",
       "      <td>8000.000000</td>\n",
       "      <td>8000.000000</td>\n",
       "      <td>8000.000000</td>\n",
       "    </tr>\n",
       "    <tr>\n",
       "      <th>mean</th>\n",
       "      <td>50.212000</td>\n",
       "      <td>49.856590</td>\n",
       "      <td>49.740750</td>\n",
       "      <td>50.498271</td>\n",
       "      <td>49.68128</td>\n",
       "      <td>50.281659</td>\n",
       "      <td>50.019625</td>\n",
       "      <td>57.124342</td>\n",
       "      <td>55.031480</td>\n",
       "      <td>56.785875</td>\n",
       "      <td>49.759737</td>\n",
       "      <td>50.521145</td>\n",
       "      <td>50.293250</td>\n",
       "      <td>49.403375</td>\n",
       "      <td>50.778125</td>\n",
       "      <td>49.413815</td>\n",
       "      <td>0.498250</td>\n",
       "      <td>0.497125</td>\n",
       "    </tr>\n",
       "    <tr>\n",
       "      <th>std</th>\n",
       "      <td>28.984204</td>\n",
       "      <td>28.890059</td>\n",
       "      <td>29.022191</td>\n",
       "      <td>28.828823</td>\n",
       "      <td>27.56277</td>\n",
       "      <td>27.280464</td>\n",
       "      <td>27.319000</td>\n",
       "      <td>85.944626</td>\n",
       "      <td>68.540857</td>\n",
       "      <td>81.386384</td>\n",
       "      <td>28.961474</td>\n",
       "      <td>28.759969</td>\n",
       "      <td>29.009579</td>\n",
       "      <td>28.566946</td>\n",
       "      <td>28.873026</td>\n",
       "      <td>28.729436</td>\n",
       "      <td>0.500028</td>\n",
       "      <td>0.500023</td>\n",
       "    </tr>\n",
       "    <tr>\n",
       "      <th>min</th>\n",
       "      <td>0.000000</td>\n",
       "      <td>0.000000</td>\n",
       "      <td>0.000000</td>\n",
       "      <td>0.010000</td>\n",
       "      <td>0.01000</td>\n",
       "      <td>0.010000</td>\n",
       "      <td>0.000000</td>\n",
       "      <td>0.000000</td>\n",
       "      <td>0.000000</td>\n",
       "      <td>0.000000</td>\n",
       "      <td>0.000000</td>\n",
       "      <td>0.000000</td>\n",
       "      <td>0.000000</td>\n",
       "      <td>0.000000</td>\n",
       "      <td>0.000000</td>\n",
       "      <td>0.010000</td>\n",
       "      <td>0.000000</td>\n",
       "      <td>0.000000</td>\n",
       "    </tr>\n",
       "    <tr>\n",
       "      <th>25%</th>\n",
       "      <td>25.000000</td>\n",
       "      <td>24.847500</td>\n",
       "      <td>24.750000</td>\n",
       "      <td>25.460000</td>\n",
       "      <td>26.59000</td>\n",
       "      <td>28.267500</td>\n",
       "      <td>28.000000</td>\n",
       "      <td>25.565000</td>\n",
       "      <td>24.817500</td>\n",
       "      <td>26.000000</td>\n",
       "      <td>24.400000</td>\n",
       "      <td>25.430000</td>\n",
       "      <td>25.000000</td>\n",
       "      <td>25.000000</td>\n",
       "      <td>26.000000</td>\n",
       "      <td>24.425000</td>\n",
       "      <td>0.000000</td>\n",
       "      <td>0.000000</td>\n",
       "    </tr>\n",
       "    <tr>\n",
       "      <th>50%</th>\n",
       "      <td>51.000000</td>\n",
       "      <td>49.705000</td>\n",
       "      <td>50.000000</td>\n",
       "      <td>51.000000</td>\n",
       "      <td>49.61000</td>\n",
       "      <td>50.250000</td>\n",
       "      <td>50.000000</td>\n",
       "      <td>50.765000</td>\n",
       "      <td>50.270000</td>\n",
       "      <td>51.000000</td>\n",
       "      <td>49.600000</td>\n",
       "      <td>50.705000</td>\n",
       "      <td>50.000000</td>\n",
       "      <td>49.000000</td>\n",
       "      <td>51.000000</td>\n",
       "      <td>49.345000</td>\n",
       "      <td>0.000000</td>\n",
       "      <td>0.000000</td>\n",
       "    </tr>\n",
       "    <tr>\n",
       "      <th>75%</th>\n",
       "      <td>76.000000</td>\n",
       "      <td>74.715000</td>\n",
       "      <td>75.000000</td>\n",
       "      <td>75.390000</td>\n",
       "      <td>72.35500</td>\n",
       "      <td>72.532500</td>\n",
       "      <td>72.000000</td>\n",
       "      <td>75.650000</td>\n",
       "      <td>76.012500</td>\n",
       "      <td>76.000000</td>\n",
       "      <td>74.900000</td>\n",
       "      <td>75.480000</td>\n",
       "      <td>76.000000</td>\n",
       "      <td>74.000000</td>\n",
       "      <td>76.000000</td>\n",
       "      <td>73.675000</td>\n",
       "      <td>1.000000</td>\n",
       "      <td>1.000000</td>\n",
       "    </tr>\n",
       "    <tr>\n",
       "      <th>max</th>\n",
       "      <td>100.000000</td>\n",
       "      <td>100.000000</td>\n",
       "      <td>100.000000</td>\n",
       "      <td>99.990000</td>\n",
       "      <td>100.00000</td>\n",
       "      <td>99.970000</td>\n",
       "      <td>100.000000</td>\n",
       "      <td>1476.420000</td>\n",
       "      <td>1179.480000</td>\n",
       "      <td>1297.000000</td>\n",
       "      <td>100.000000</td>\n",
       "      <td>100.000000</td>\n",
       "      <td>100.000000</td>\n",
       "      <td>100.000000</td>\n",
       "      <td>100.000000</td>\n",
       "      <td>99.970000</td>\n",
       "      <td>1.000000</td>\n",
       "      <td>1.000000</td>\n",
       "    </tr>\n",
       "  </tbody>\n",
       "</table>\n",
       "</div>"
      ],
      "text/plain": [
       "       Customer Satisfaction Score  Response Time  Daily User Logins  \\\n",
       "count                  8000.000000    8000.000000        8000.000000   \n",
       "mean                     50.212000      49.856590          49.740750   \n",
       "std                      28.984204      28.890059          29.022191   \n",
       "min                       0.000000       0.000000           0.000000   \n",
       "25%                      25.000000      24.847500          24.750000   \n",
       "50%                      51.000000      49.705000          50.000000   \n",
       "75%                      76.000000      74.715000          75.000000   \n",
       "max                     100.000000     100.000000         100.000000   \n",
       "\n",
       "       Average Session Duration  Survey Response Rate  Transaction Amount  \\\n",
       "count               8000.000000            8000.00000         8000.000000   \n",
       "mean                  50.498271              49.68128           50.281659   \n",
       "std                   28.828823              27.56277           27.280464   \n",
       "min                    0.010000               0.01000            0.010000   \n",
       "25%                   25.460000              26.59000           28.267500   \n",
       "50%                   51.000000              49.61000           50.250000   \n",
       "75%                   75.390000              72.35500           72.532500   \n",
       "max                   99.990000             100.00000           99.970000   \n",
       "\n",
       "       Product Rating  High-Value Purchase Count  Customer Support Calls  \\\n",
       "count     8000.000000                8000.000000             8000.000000   \n",
       "mean        50.019625                  57.124342               55.031480   \n",
       "std         27.319000                  85.944626               68.540857   \n",
       "min          0.000000                   0.000000                0.000000   \n",
       "25%         28.000000                  25.565000               24.817500   \n",
       "50%         50.000000                  50.765000               50.270000   \n",
       "75%         72.000000                  75.650000               76.012500   \n",
       "max        100.000000                1476.420000             1179.480000   \n",
       "\n",
       "       Website Click-Through Rate  Newsletter Open Rate  \\\n",
       "count                 8000.000000           8000.000000   \n",
       "mean                    56.785875             49.759737   \n",
       "std                     81.386384             28.961474   \n",
       "min                      0.000000              0.000000   \n",
       "25%                     26.000000             24.400000   \n",
       "50%                     51.000000             49.600000   \n",
       "75%                     76.000000             74.900000   \n",
       "max                   1297.000000            100.000000   \n",
       "\n",
       "       Social Media Engagement Score  Referral Count  Account Age  \\\n",
       "count                    8000.000000     8000.000000  8000.000000   \n",
       "mean                       50.521145       50.293250    49.403375   \n",
       "std                        28.759969       29.009579    28.566946   \n",
       "min                         0.000000        0.000000     0.000000   \n",
       "25%                        25.430000       25.000000    25.000000   \n",
       "50%                        50.705000       50.000000    49.000000   \n",
       "75%                        75.480000       76.000000    74.000000   \n",
       "max                       100.000000      100.000000   100.000000   \n",
       "\n",
       "       Feedback Score  Marketing Email Click Rate  Subscription Status  \\\n",
       "count     8000.000000                 8000.000000          8000.000000   \n",
       "mean        50.778125                   49.413815             0.498250   \n",
       "std         28.873026                   28.729436             0.500028   \n",
       "min          0.000000                    0.010000             0.000000   \n",
       "25%         26.000000                   24.425000             0.000000   \n",
       "50%         51.000000                   49.345000             0.000000   \n",
       "75%         76.000000                   73.675000             1.000000   \n",
       "max        100.000000                   99.970000             1.000000   \n",
       "\n",
       "       Product Upsell Success  \n",
       "count             8000.000000  \n",
       "mean                 0.497125  \n",
       "std                  0.500023  \n",
       "min                  0.000000  \n",
       "25%                  0.000000  \n",
       "50%                  0.000000  \n",
       "75%                  1.000000  \n",
       "max                  1.000000  "
      ]
     },
     "execution_count": 7,
     "metadata": {},
     "output_type": "execute_result"
    }
   ],
   "source": [
    "customer_df.describe()"
   ]
  },
  {
   "cell_type": "markdown",
   "id": "8c1f1a84",
   "metadata": {},
   "source": [
    "has missing values/to scale: \n",
    "Survey Response Rate(MV),\n",
    "Transaction Amount (MV)\n",
    "Product Rating (MV & scale 1-5)\n"
   ]
  },
  {
   "cell_type": "code",
   "execution_count": 8,
   "id": "a0204039",
   "metadata": {},
   "outputs": [],
   "source": [
    "#Min Max scaler on Product rating column\n",
    "unscaled_data = customer_df[\"Product Rating\"].values.reshape(-1, 1)\n",
    "scaler = MinMaxScaler(feature_range=(1, 5))\n",
    "scaled_data = scaler.fit_transform(unscaled_data)\n",
    "rounded_to_zero = scaled_data.round(0).astype(int)\n",
    "customer_df[\"Product Rating\"] = rounded_to_zero"
   ]
  },
  {
   "cell_type": "code",
   "execution_count": 9,
   "id": "47335d9a",
   "metadata": {},
   "outputs": [
    {
     "data": {
      "text/plain": [
       "array([1, 2, 3, 5, 4])"
      ]
     },
     "execution_count": 9,
     "metadata": {},
     "output_type": "execute_result"
    }
   ],
   "source": [
    "#Confirming scaling worked correctly\n",
    "customer_df[\"Product Rating\"].unique()"
   ]
  },
  {
   "cell_type": "code",
   "execution_count": 11,
   "id": "fc597100",
   "metadata": {},
   "outputs": [
    {
     "data": {
      "text/html": [
       "<div>\n",
       "<style scoped>\n",
       "    .dataframe tbody tr th:only-of-type {\n",
       "        vertical-align: middle;\n",
       "    }\n",
       "\n",
       "    .dataframe tbody tr th {\n",
       "        vertical-align: top;\n",
       "    }\n",
       "\n",
       "    .dataframe thead th {\n",
       "        text-align: right;\n",
       "    }\n",
       "</style>\n",
       "<table border=\"1\" class=\"dataframe\">\n",
       "  <thead>\n",
       "    <tr style=\"text-align: right;\">\n",
       "      <th></th>\n",
       "      <th>Customer Satisfaction Score</th>\n",
       "      <th>Response Time</th>\n",
       "      <th>Daily User Logins</th>\n",
       "      <th>Average Session Duration</th>\n",
       "      <th>Survey Response Rate</th>\n",
       "      <th>Transaction Amount</th>\n",
       "      <th>Product Rating</th>\n",
       "      <th>High-Value Purchase Count</th>\n",
       "      <th>Customer Support Calls</th>\n",
       "      <th>Website Click-Through Rate</th>\n",
       "      <th>Newsletter Open Rate</th>\n",
       "      <th>Social Media Engagement Score</th>\n",
       "      <th>Referral Count</th>\n",
       "      <th>Account Age</th>\n",
       "      <th>Feedback Score</th>\n",
       "      <th>Marketing Email Click Rate</th>\n",
       "      <th>Subscription Status</th>\n",
       "      <th>Product Upsell Success</th>\n",
       "    </tr>\n",
       "  </thead>\n",
       "  <tbody>\n",
       "    <tr>\n",
       "      <th>count</th>\n",
       "      <td>8000.000000</td>\n",
       "      <td>8000.000000</td>\n",
       "      <td>8000.000000</td>\n",
       "      <td>8000.000000</td>\n",
       "      <td>8000.00000</td>\n",
       "      <td>8000.000000</td>\n",
       "      <td>8000.000000</td>\n",
       "      <td>8000.000000</td>\n",
       "      <td>8000.000000</td>\n",
       "      <td>8000.000000</td>\n",
       "      <td>8000.000000</td>\n",
       "      <td>8000.000000</td>\n",
       "      <td>8000.000000</td>\n",
       "      <td>8000.000000</td>\n",
       "      <td>8000.000000</td>\n",
       "      <td>8000.000000</td>\n",
       "      <td>8000.000000</td>\n",
       "      <td>8000.000000</td>\n",
       "    </tr>\n",
       "    <tr>\n",
       "      <th>mean</th>\n",
       "      <td>50.212000</td>\n",
       "      <td>49.856590</td>\n",
       "      <td>49.740750</td>\n",
       "      <td>50.498271</td>\n",
       "      <td>49.68128</td>\n",
       "      <td>50.281659</td>\n",
       "      <td>2.992875</td>\n",
       "      <td>57.124342</td>\n",
       "      <td>55.031480</td>\n",
       "      <td>56.785875</td>\n",
       "      <td>49.759737</td>\n",
       "      <td>50.521145</td>\n",
       "      <td>50.293250</td>\n",
       "      <td>49.403375</td>\n",
       "      <td>50.778125</td>\n",
       "      <td>49.413815</td>\n",
       "      <td>0.498250</td>\n",
       "      <td>0.497125</td>\n",
       "    </tr>\n",
       "    <tr>\n",
       "      <th>std</th>\n",
       "      <td>28.984204</td>\n",
       "      <td>28.890059</td>\n",
       "      <td>29.022191</td>\n",
       "      <td>28.828823</td>\n",
       "      <td>27.56277</td>\n",
       "      <td>27.280464</td>\n",
       "      <td>1.160277</td>\n",
       "      <td>85.944626</td>\n",
       "      <td>68.540857</td>\n",
       "      <td>81.386384</td>\n",
       "      <td>28.961474</td>\n",
       "      <td>28.759969</td>\n",
       "      <td>29.009579</td>\n",
       "      <td>28.566946</td>\n",
       "      <td>28.873026</td>\n",
       "      <td>28.729436</td>\n",
       "      <td>0.500028</td>\n",
       "      <td>0.500023</td>\n",
       "    </tr>\n",
       "    <tr>\n",
       "      <th>min</th>\n",
       "      <td>0.000000</td>\n",
       "      <td>0.000000</td>\n",
       "      <td>0.000000</td>\n",
       "      <td>0.010000</td>\n",
       "      <td>0.01000</td>\n",
       "      <td>0.010000</td>\n",
       "      <td>1.000000</td>\n",
       "      <td>0.000000</td>\n",
       "      <td>0.000000</td>\n",
       "      <td>0.000000</td>\n",
       "      <td>0.000000</td>\n",
       "      <td>0.000000</td>\n",
       "      <td>0.000000</td>\n",
       "      <td>0.000000</td>\n",
       "      <td>0.000000</td>\n",
       "      <td>0.010000</td>\n",
       "      <td>0.000000</td>\n",
       "      <td>0.000000</td>\n",
       "    </tr>\n",
       "    <tr>\n",
       "      <th>25%</th>\n",
       "      <td>25.000000</td>\n",
       "      <td>24.847500</td>\n",
       "      <td>24.750000</td>\n",
       "      <td>25.460000</td>\n",
       "      <td>26.59000</td>\n",
       "      <td>28.267500</td>\n",
       "      <td>2.000000</td>\n",
       "      <td>25.565000</td>\n",
       "      <td>24.817500</td>\n",
       "      <td>26.000000</td>\n",
       "      <td>24.400000</td>\n",
       "      <td>25.430000</td>\n",
       "      <td>25.000000</td>\n",
       "      <td>25.000000</td>\n",
       "      <td>26.000000</td>\n",
       "      <td>24.425000</td>\n",
       "      <td>0.000000</td>\n",
       "      <td>0.000000</td>\n",
       "    </tr>\n",
       "    <tr>\n",
       "      <th>50%</th>\n",
       "      <td>51.000000</td>\n",
       "      <td>49.705000</td>\n",
       "      <td>50.000000</td>\n",
       "      <td>51.000000</td>\n",
       "      <td>49.61000</td>\n",
       "      <td>50.250000</td>\n",
       "      <td>3.000000</td>\n",
       "      <td>50.765000</td>\n",
       "      <td>50.270000</td>\n",
       "      <td>51.000000</td>\n",
       "      <td>49.600000</td>\n",
       "      <td>50.705000</td>\n",
       "      <td>50.000000</td>\n",
       "      <td>49.000000</td>\n",
       "      <td>51.000000</td>\n",
       "      <td>49.345000</td>\n",
       "      <td>0.000000</td>\n",
       "      <td>0.000000</td>\n",
       "    </tr>\n",
       "    <tr>\n",
       "      <th>75%</th>\n",
       "      <td>76.000000</td>\n",
       "      <td>74.715000</td>\n",
       "      <td>75.000000</td>\n",
       "      <td>75.390000</td>\n",
       "      <td>72.35500</td>\n",
       "      <td>72.532500</td>\n",
       "      <td>4.000000</td>\n",
       "      <td>75.650000</td>\n",
       "      <td>76.012500</td>\n",
       "      <td>76.000000</td>\n",
       "      <td>74.900000</td>\n",
       "      <td>75.480000</td>\n",
       "      <td>76.000000</td>\n",
       "      <td>74.000000</td>\n",
       "      <td>76.000000</td>\n",
       "      <td>73.675000</td>\n",
       "      <td>1.000000</td>\n",
       "      <td>1.000000</td>\n",
       "    </tr>\n",
       "    <tr>\n",
       "      <th>max</th>\n",
       "      <td>100.000000</td>\n",
       "      <td>100.000000</td>\n",
       "      <td>100.000000</td>\n",
       "      <td>99.990000</td>\n",
       "      <td>100.00000</td>\n",
       "      <td>99.970000</td>\n",
       "      <td>5.000000</td>\n",
       "      <td>1476.420000</td>\n",
       "      <td>1179.480000</td>\n",
       "      <td>1297.000000</td>\n",
       "      <td>100.000000</td>\n",
       "      <td>100.000000</td>\n",
       "      <td>100.000000</td>\n",
       "      <td>100.000000</td>\n",
       "      <td>100.000000</td>\n",
       "      <td>99.970000</td>\n",
       "      <td>1.000000</td>\n",
       "      <td>1.000000</td>\n",
       "    </tr>\n",
       "  </tbody>\n",
       "</table>\n",
       "</div>"
      ],
      "text/plain": [
       "       Customer Satisfaction Score  Response Time  Daily User Logins  \\\n",
       "count                  8000.000000    8000.000000        8000.000000   \n",
       "mean                     50.212000      49.856590          49.740750   \n",
       "std                      28.984204      28.890059          29.022191   \n",
       "min                       0.000000       0.000000           0.000000   \n",
       "25%                      25.000000      24.847500          24.750000   \n",
       "50%                      51.000000      49.705000          50.000000   \n",
       "75%                      76.000000      74.715000          75.000000   \n",
       "max                     100.000000     100.000000         100.000000   \n",
       "\n",
       "       Average Session Duration  Survey Response Rate  Transaction Amount  \\\n",
       "count               8000.000000            8000.00000         8000.000000   \n",
       "mean                  50.498271              49.68128           50.281659   \n",
       "std                   28.828823              27.56277           27.280464   \n",
       "min                    0.010000               0.01000            0.010000   \n",
       "25%                   25.460000              26.59000           28.267500   \n",
       "50%                   51.000000              49.61000           50.250000   \n",
       "75%                   75.390000              72.35500           72.532500   \n",
       "max                   99.990000             100.00000           99.970000   \n",
       "\n",
       "       Product Rating  High-Value Purchase Count  Customer Support Calls  \\\n",
       "count     8000.000000                8000.000000             8000.000000   \n",
       "mean         2.992875                  57.124342               55.031480   \n",
       "std          1.160277                  85.944626               68.540857   \n",
       "min          1.000000                   0.000000                0.000000   \n",
       "25%          2.000000                  25.565000               24.817500   \n",
       "50%          3.000000                  50.765000               50.270000   \n",
       "75%          4.000000                  75.650000               76.012500   \n",
       "max          5.000000                1476.420000             1179.480000   \n",
       "\n",
       "       Website Click-Through Rate  Newsletter Open Rate  \\\n",
       "count                 8000.000000           8000.000000   \n",
       "mean                    56.785875             49.759737   \n",
       "std                     81.386384             28.961474   \n",
       "min                      0.000000              0.000000   \n",
       "25%                     26.000000             24.400000   \n",
       "50%                     51.000000             49.600000   \n",
       "75%                     76.000000             74.900000   \n",
       "max                   1297.000000            100.000000   \n",
       "\n",
       "       Social Media Engagement Score  Referral Count  Account Age  \\\n",
       "count                    8000.000000     8000.000000  8000.000000   \n",
       "mean                       50.521145       50.293250    49.403375   \n",
       "std                        28.759969       29.009579    28.566946   \n",
       "min                         0.000000        0.000000     0.000000   \n",
       "25%                        25.430000       25.000000    25.000000   \n",
       "50%                        50.705000       50.000000    49.000000   \n",
       "75%                        75.480000       76.000000    74.000000   \n",
       "max                       100.000000      100.000000   100.000000   \n",
       "\n",
       "       Feedback Score  Marketing Email Click Rate  Subscription Status  \\\n",
       "count     8000.000000                 8000.000000          8000.000000   \n",
       "mean        50.778125                   49.413815             0.498250   \n",
       "std         28.873026                   28.729436             0.500028   \n",
       "min          0.000000                    0.010000             0.000000   \n",
       "25%         26.000000                   24.425000             0.000000   \n",
       "50%         51.000000                   49.345000             0.000000   \n",
       "75%         76.000000                   73.675000             1.000000   \n",
       "max        100.000000                   99.970000             1.000000   \n",
       "\n",
       "       Product Upsell Success  \n",
       "count             8000.000000  \n",
       "mean                 0.497125  \n",
       "std                  0.500023  \n",
       "min                  0.000000  \n",
       "25%                  0.000000  \n",
       "50%                  0.000000  \n",
       "75%                  1.000000  \n",
       "max                  1.000000  "
      ]
     },
     "execution_count": 11,
     "metadata": {},
     "output_type": "execute_result"
    }
   ],
   "source": [
    "customer_df.describe()"
   ]
  },
  {
   "cell_type": "code",
   "execution_count": 12,
   "id": "c68babcc",
   "metadata": {},
   "outputs": [
    {
     "data": {
      "text/plain": [
       "array(['Email', 'Phone', 'SMS'], dtype=object)"
      ]
     },
     "execution_count": 12,
     "metadata": {},
     "output_type": "execute_result"
    }
   ],
   "source": [
    "customer_df[\"Preferred Communication Channel\"].unique() #no \"-\" values"
   ]
  },
  {
   "cell_type": "code",
   "execution_count": 13,
   "id": "60b5d983",
   "metadata": {},
   "outputs": [
    {
     "data": {
      "text/plain": [
       "array(['Basic', 'Gold', 'Platinum'], dtype=object)"
      ]
     },
     "execution_count": 13,
     "metadata": {},
     "output_type": "execute_result"
    }
   ],
   "source": [
    "customer_df[\"Product Category Preference\"].unique() #no \"-\" values"
   ]
  },
  {
   "cell_type": "markdown",
   "id": "0ef3a270",
   "metadata": {},
   "source": [
    "In Customer satisfaction - the standard deviation is quite high which indicates that the difference between the highest and lowest values is high. There very low scores and very high scores and loads in between too. So some customers are really happy and some customers are really unhappy. "
   ]
  },
  {
   "cell_type": "code",
   "execution_count": 175,
   "id": "4ec6e627",
   "metadata": {
    "scrolled": true
   },
   "outputs": [
    {
     "data": {
      "image/png": "[encoded data removed]",
      "text/plain": [
       "<Figure size 640x480 with 1 Axes>"
      ]
     },
     "metadata": {},
     "output_type": "display_data"
    }
   ],
   "source": [
    "#Box plot showing Customer Satisfaction Score data\n",
    "sns.boxplot(x = \"Customer Satisfaction Score\", data=customer_df, hue =\"Customer Satisfaction Score\")\n",
    "plt.title('Customer Satisfaction Score', fontsize=10)\n",
    "plt.legend([], [], frameon=False)\n",
    "plt.show()"
   ]
  },
  {
   "cell_type": "code",
   "execution_count": 177,
   "id": "cb6ef41e",
   "metadata": {
    "scrolled": true
   },
   "outputs": [
    {
     "data": {
      "text/plain": [
       "Preferred Communication Channel\n",
       "Email    0.381125\n",
       "SMS      0.348750\n",
       "Phone    0.270125\n",
       "Name: count, dtype: float64"
      ]
     },
     "execution_count": 177,
     "metadata": {},
     "output_type": "execute_result"
    }
   ],
   "source": [
    "#Pie chart for Preferred Communication Channel\n",
    "Communication_counts = customer_df[\"Preferred Communication Channel\"].value_counts()\n",
    "Communication_PROB = Communication_counts/len(customer_df)\n",
    "Communication_PROB"
   ]
  },
  {
   "cell_type": "code",
   "execution_count": 181,
   "id": "d655ea23",
   "metadata": {},
   "outputs": [
    {
     "data": {
      "image/png": "[encoded data removed]",
      "text/plain": [
       "<Figure size 500x500 with 1 Axes>"
      ]
     },
     "metadata": {},
     "output_type": "display_data"
    }
   ],
   "source": [
    "# Preparing the data\n",
    "communication_proportions = {'Email': 0.381125, 'SMS': 0.348750, 'Phone': 0.270125}\n",
    "\n",
    "# Labels and values for the pie chart\n",
    "labels = communication_proportions.keys()\n",
    "sizes = communication_proportions.values()\n",
    "\n",
    "# Plot\n",
    "plt.figure(figsize=(5, 5))\n",
    "plt.pie(sizes, labels=labels, autopct='%1.1f%%', colors=['lightblue', 'lightcoral', 'green'])\n",
    "plt.title('Preferred Communication Channel')\n",
    "plt.show()"
   ]
  },
  {
   "cell_type": "code",
   "execution_count": 76,
   "id": "b21305bf",
   "metadata": {},
   "outputs": [
    {
     "data": {
      "text/plain": [
       "0    Email\n",
       "Name: Preferred Communication Channel, dtype: object"
      ]
     },
     "execution_count": 76,
     "metadata": {},
     "output_type": "execute_result"
    }
   ],
   "source": [
    "#Calculating the mode of Preferred Communication Channel\n",
    "mode = customer_df[\"Preferred Communication Channel\"].mode()\n",
    "mode"
   ]
  },
  {
   "cell_type": "code",
   "execution_count": 77,
   "id": "eb8100ab",
   "metadata": {
    "scrolled": true
   },
   "outputs": [
    {
     "data": {
      "text/plain": [
       "0    80\n",
       "Name: Customer Satisfaction Score, dtype: int64"
      ]
     },
     "execution_count": 77,
     "metadata": {},
     "output_type": "execute_result"
    }
   ],
   "source": [
    "#Calculating the mode of Customer Satisfaction Score\n",
    "mode1 = customer_df[\"Customer Satisfaction Score\"].mode()\n",
    "mode1"
   ]
  },
  {
   "cell_type": "code",
   "execution_count": 78,
   "id": "ec0a217b",
   "metadata": {},
   "outputs": [
    {
     "data": {
      "text/plain": [
       "0    70\n",
       "Name: Account Age, dtype: int64"
      ]
     },
     "execution_count": 78,
     "metadata": {},
     "output_type": "execute_result"
    }
   ],
   "source": [
    "#Calculating the mode of Account Age\n",
    "mode2 = customer_df[\"Account Age\"].mode()\n",
    "mode2"
   ]
  },
  {
   "cell_type": "markdown",
   "id": "4ce05895",
   "metadata": {},
   "source": [
    "for customer retention having a look at the satisfaction of customers could be useful. Customers who have a satisaction score of under 50 could be sent discounts or more benefical marketing promotions."
   ]
  },
  {
   "cell_type": "code",
   "execution_count": 80,
   "id": "73e85bd9",
   "metadata": {},
   "outputs": [
    {
     "data": {
      "text/plain": [
       "58.14049370606176"
      ]
     },
     "execution_count": 80,
     "metadata": {},
     "output_type": "execute_result"
    }
   ],
   "source": [
    "#Variation coefficient of Marketing email click rate\n",
    "mu = 49.413815\n",
    "sigma = 28.729436\n",
    "\n",
    "sigma/mu * 100"
   ]
  },
  {
   "cell_type": "code",
   "execution_count": 16,
   "id": "a62fe9a3",
   "metadata": {},
   "outputs": [
    {
     "data": {
      "text/plain": [
       "0.4557231886212574"
      ]
     },
     "execution_count": 16,
     "metadata": {},
     "output_type": "execute_result"
    }
   ],
   "source": [
    "#how many customers gave a product rating between 3-5\n",
    "mu = 2.992875\n",
    "sigma = 1.160277\n",
    "norm.cdf(5, mu, sigma) - norm.cdf(3, mu, sigma)"
   ]
  },
  {
   "cell_type": "code",
   "execution_count": 17,
   "id": "8385e600",
   "metadata": {},
   "outputs": [
    {
     "data": {
      "text/plain": [
       "0.1482557675329642"
      ]
     },
     "execution_count": 17,
     "metadata": {},
     "output_type": "execute_result"
    }
   ],
   "source": [
    "#Transaction Amount\n",
    "mu = 50.281659\n",
    "sigma = 27.280464\n",
    "norm.cdf(100, mu, sigma) - norm.cdf(75, mu, sigma)"
   ]
  },
  {
   "cell_type": "code",
   "execution_count": 18,
   "id": "d8948d39",
   "metadata": {},
   "outputs": [
    {
     "data": {
      "text/plain": [
       "0.4972055639162718"
      ]
     },
     "execution_count": 18,
     "metadata": {},
     "output_type": "execute_result"
    }
   ],
   "source": [
    "#49.7% of customers have a satisfaction score of under 50/100\n",
    "mu = 50.21\n",
    "sigma = 29.98\n",
    "norm.cdf(50, mu, sigma)"
   ]
  },
  {
   "cell_type": "code",
   "execution_count": 19,
   "id": "bb298391",
   "metadata": {},
   "outputs": [
    {
     "data": {
      "text/plain": [
       "0.14743632578532972"
      ]
     },
     "execution_count": 19,
     "metadata": {},
     "output_type": "execute_result"
    }
   ],
   "source": [
    "#Marketing email click rate\n",
    "mu = 49.413815\n",
    "sigma = 28.729436\n",
    "norm.cdf(100, mu, sigma) - norm.cdf(75, mu, sigma)"
   ]
  },
  {
   "cell_type": "code",
   "execution_count": 20,
   "id": "ca7866e4",
   "metadata": {},
   "outputs": [
    {
     "data": {
      "text/plain": [
       "0.4837310288355364"
      ]
     },
     "execution_count": 20,
     "metadata": {},
     "output_type": "execute_result"
    }
   ],
   "source": [
    "#newletter open rate\n",
    "mu = 49.759737\n",
    "sigma = 28.961474\n",
    "norm.cdf(80, mu, sigma) - norm.cdf(40, mu, sigma)"
   ]
  },
  {
   "cell_type": "code",
   "execution_count": 21,
   "id": "dcbdb6de",
   "metadata": {},
   "outputs": [
    {
     "data": {
      "text/plain": [
       "[Text(0.5, 0, 'Score'),\n",
       " Text(0, 0.5, 'Customers'),\n",
       " Text(0.5, 1.0, 'Customer Satisfaction Scores')]"
      ]
     },
     "execution_count": 21,
     "metadata": {},
     "output_type": "execute_result"
    },
    {
     "data": {
      "image/png": "[encoded data removed]",
      "text/plain": [
       "<Figure size 640x480 with 1 Axes>"
      ]
     },
     "metadata": {},
     "output_type": "display_data"
    }
   ],
   "source": [
    "ax = sns.histplot(customer_df[\"Customer Satisfaction Score\"], kde=True, color ='red')\n",
    "ax.set(xlabel='Score', ylabel='Customers', title ='Customer Satisfaction Scores')"
   ]
  },
  {
   "cell_type": "code",
   "execution_count": 22,
   "id": "fe7dcfcf",
   "metadata": {},
   "outputs": [
    {
     "data": {
      "text/plain": [
       "[Text(0.5, 0, 'Rating'),\n",
       " Text(0, 0.5, 'No. of Customers'),\n",
       " Text(0.5, 1.0, 'Product Rating')]"
      ]
     },
     "execution_count": 22,
     "metadata": {},
     "output_type": "execute_result"
    },
    {
     "data": {
      "image/png": "[encoded data removed]",
      "text/plain": [
       "<Figure size 640x480 with 1 Axes>"
      ]
     },
     "metadata": {},
     "output_type": "display_data"
    }
   ],
   "source": [
    "ax = sns.histplot(customer_df[\"Product Rating\"], kde=True, color ='blue')\n",
    "ax.set(xlabel='Rating', ylabel='No. of Customers', title ='Product Rating')"
   ]
  },
  {
   "cell_type": "code",
   "execution_count": 182,
   "id": "a8302455",
   "metadata": {},
   "outputs": [
    {
     "data": {
      "text/plain": [
       "[Text(0.5, 0, 'Account Age'),\n",
       " Text(0, 0.5, 'No. of Customers'),\n",
       " Text(0.5, 1.0, 'Amount Spent in USD')]"
      ]
     },
     "execution_count": 182,
     "metadata": {},
     "output_type": "execute_result"
    },
    {
     "data": {
      "image/png": "[encoded data removed]",
      "text/plain": [
       "<Figure size 640x480 with 1 Axes>"
      ]
     },
     "metadata": {},
     "output_type": "display_data"
    }
   ],
   "source": [
    "ax = sns.histplot(customer_df[\"Account Age\"], kde=True, color ='orange')\n",
    "ax.set(xlabel='Account Age', ylabel='No. of Customers', title ='Amount Spent in USD')"
   ]
  },
  {
   "cell_type": "markdown",
   "id": "8c75806d",
   "metadata": {},
   "source": [
    "QUESTION 3 - Probabilities"
   ]
  },
  {
   "cell_type": "code",
   "execution_count": 88,
   "id": "94e40253",
   "metadata": {},
   "outputs": [
    {
     "data": {
      "text/plain": [
       "Product Category Preference\n",
       "Gold        3162\n",
       "Platinum    2783\n",
       "Basic       2055\n",
       "Name: count, dtype: int64"
      ]
     },
     "execution_count": 88,
     "metadata": {},
     "output_type": "execute_result"
    }
   ],
   "source": [
    "#Establishing how customers have each product category\n",
    "productType_counts = customer_df[\"Product Category Preference\"].value_counts()\n",
    "productType_counts"
   ]
  },
  {
   "cell_type": "code",
   "execution_count": 91,
   "id": "2f8d5224",
   "metadata": {},
   "outputs": [
    {
     "data": {
      "text/plain": [
       "Product Category Preference\n",
       "Gold        0.395250\n",
       "Platinum    0.347875\n",
       "Basic       0.256875\n",
       "Name: count, dtype: float64"
      ]
     },
     "execution_count": 91,
     "metadata": {},
     "output_type": "execute_result"
    }
   ],
   "source": [
    "#converting to percentage or probibility\n",
    "productType_counts_PROB = productType_counts/len(customer_df)\n",
    "productType_counts_PROB"
   ]
  },
  {
   "cell_type": "code",
   "execution_count": 85,
   "id": "07d4d422",
   "metadata": {},
   "outputs": [
    {
     "data": {
      "text/plain": [
       "Membership Status\n",
       "Yes    7895\n",
       "No      105\n",
       "Name: count, dtype: int64"
      ]
     },
     "execution_count": 85,
     "metadata": {},
     "output_type": "execute_result"
    }
   ],
   "source": [
    "#Establishing how customers have membership\n",
    "Membership_counts = customer_df[\"Membership Status\"].value_counts()\n",
    "Membership_counts"
   ]
  },
  {
   "cell_type": "code",
   "execution_count": 86,
   "id": "d7ffd162",
   "metadata": {},
   "outputs": [
    {
     "data": {
      "text/plain": [
       "Membership Status\n",
       "Yes    0.986875\n",
       "No     0.013125\n",
       "Name: count, dtype: float64"
      ]
     },
     "execution_count": 86,
     "metadata": {},
     "output_type": "execute_result"
    }
   ],
   "source": [
    "#converting to percentage or probibility\n",
    "Membership_PROB = Membership_counts/len(customer_df)\n",
    "Membership_PROB"
   ]
  },
  {
   "cell_type": "code",
   "execution_count": 73,
   "id": "bccdad5f",
   "metadata": {},
   "outputs": [
    {
     "data": {
      "text/plain": [
       "Interest in New Product\n",
       "Yes    0.506125\n",
       "No     0.493875\n",
       "Name: count, dtype: float64"
      ]
     },
     "execution_count": 73,
     "metadata": {},
     "output_type": "execute_result"
    }
   ],
   "source": [
    "#Establishing how customers have interst in new products and converting to percentage/ probibility\n",
    "ProductInterest_counts = customer_df[\"Interest in New Product\"].value_counts()\n",
    "ProductInterest_PROB = ProductInterest_counts/len(customer_df)\n",
    "ProductInterest_PROB"
   ]
  },
  {
   "cell_type": "markdown",
   "id": "b52d0bb9",
   "metadata": {},
   "source": [
    "QUESTION 4 BINOMIAL DUSTRIBUTION - INTEREST IN NEW PRODUCT. Can use above data ^^\n",
    "\n",
    "BIMON.PMF (K = NUMBER WE ARE LOOKING FOR, N = SAMPLE SIZE, P = PROBABILIITY)"
   ]
  },
  {
   "cell_type": "code",
   "execution_count": 37,
   "id": "8bced8f5",
   "metadata": {},
   "outputs": [
    {
     "data": {
      "text/plain": [
       "4049.0000000000005"
      ]
     },
     "execution_count": 37,
     "metadata": {},
     "output_type": "execute_result"
    }
   ],
   "source": [
    "#Probibility for customers having an interest in new products\n",
    "8000*0.506125"
   ]
  },
  {
   "cell_type": "code",
   "execution_count": 183,
   "id": "4d88d613",
   "metadata": {},
   "outputs": [
    {
     "data": {
      "text/plain": [
       "Customer Segment Group\n",
       "B    2028\n",
       "A    1998\n",
       "D    1996\n",
       "C    1978\n",
       "Name: count, dtype: int64"
      ]
     },
     "execution_count": 183,
     "metadata": {},
     "output_type": "execute_result"
    }
   ],
   "source": [
    "#Establishing how customers in each segment\n",
    "Customer_counts1 = customer_df[\"Customer Segment Group\"].value_counts()\n",
    "Customer_counts1"
   ]
  },
  {
   "cell_type": "code",
   "execution_count": 35,
   "id": "050a6a03",
   "metadata": {},
   "outputs": [
    {
     "data": {
      "text/plain": [
       "99.9"
      ]
     },
     "execution_count": 35,
     "metadata": {},
     "output_type": "execute_result"
    }
   ],
   "source": [
    "#Calculating 5% of segmant A\n",
    "1998 * 0.05"
   ]
  },
  {
   "cell_type": "markdown",
   "id": "2ee9b43a",
   "metadata": {},
   "source": [
    "Calculating Binomial Probabilities for segment A."
   ]
  },
  {
   "cell_type": "markdown",
   "id": "1f547de4",
   "metadata": {},
   "source": [
    "Probibility of 70 customers"
   ]
  },
  {
   "cell_type": "code",
   "execution_count": 104,
   "id": "0cdba266",
   "metadata": {},
   "outputs": [
    {
     "data": {
      "text/plain": [
       "0.9999938897446935"
      ]
     },
     "execution_count": 104,
     "metadata": {},
     "output_type": "execute_result"
    }
   ],
   "source": [
    "#Probibilty of more then 70\n",
    "binom.sf(70, 200, 0.506125)"
   ]
  },
  {
   "cell_type": "code",
   "execution_count": 105,
   "id": "43897b22",
   "metadata": {},
   "outputs": [
    {
     "data": {
      "text/plain": [
       "6.110255306545483e-06"
      ]
     },
     "execution_count": 105,
     "metadata": {},
     "output_type": "execute_result"
    }
   ],
   "source": [
    "#Probibilty of less then 70\n",
    "binom.cdf(70, 200, 0.506125)"
   ]
  },
  {
   "cell_type": "code",
   "execution_count": 122,
   "id": "fe7a2468",
   "metadata": {},
   "outputs": [
    {
     "data": {
      "text/plain": [
       "6.110255306545483e-06"
      ]
     },
     "execution_count": 122,
     "metadata": {},
     "output_type": "execute_result"
    }
   ],
   "source": [
    "#Probibilty of between 30 - 70\n",
    "binom.cdf(70, 200, 0.506125)-binom.cdf(30, 200, 0.506125)"
   ]
  },
  {
   "cell_type": "markdown",
   "id": "9684762f",
   "metadata": {},
   "source": [
    "Probibility of 60 customers"
   ]
  },
  {
   "cell_type": "code",
   "execution_count": 101,
   "id": "b8f4d2cd",
   "metadata": {},
   "outputs": [
    {
     "data": {
      "text/plain": [
       "0.9999999972606811"
      ]
     },
     "execution_count": 101,
     "metadata": {},
     "output_type": "execute_result"
    }
   ],
   "source": [
    "#Probibilty of more then 60\n",
    "binom.sf(60, 100, 0.506125)"
   ]
  },
  {
   "cell_type": "code",
   "execution_count": 119,
   "id": "e4b81752",
   "metadata": {},
   "outputs": [
    {
     "data": {
      "text/plain": [
       "0.9763562988402331"
      ]
     },
     "execution_count": 119,
     "metadata": {},
     "output_type": "execute_result"
    }
   ],
   "source": [
    "#Probibilty of less then 60\n",
    "binom.cdf(60, 100, 0.506125)"
   ]
  },
  {
   "cell_type": "code",
   "execution_count": 123,
   "id": "c19f07d2",
   "metadata": {},
   "outputs": [
    {
     "data": {
      "text/plain": [
       "0.955006424528501"
      ]
     },
     "execution_count": 123,
     "metadata": {},
     "output_type": "execute_result"
    }
   ],
   "source": [
    "#Probibilty of between 40 - 60\n",
    "binom.cdf(60, 100, 0.506125)-binom.cdf(40, 100, 0.506125)"
   ]
  },
  {
   "cell_type": "markdown",
   "id": "7f2d75ba",
   "metadata": {},
   "source": [
    "Probibility of 50"
   ]
  },
  {
   "cell_type": "code",
   "execution_count": 113,
   "id": "62ac3eab",
   "metadata": {
    "scrolled": true
   },
   "outputs": [
    {
     "data": {
      "text/plain": [
       "0.50913205247736"
      ]
     },
     "execution_count": 113,
     "metadata": {},
     "output_type": "execute_result"
    }
   ],
   "source": [
    "#Probibilty of more then 50\n",
    "binom.sf(50, 100, 0.506125)"
   ]
  },
  {
   "cell_type": "code",
   "execution_count": 114,
   "id": "ead4a98e",
   "metadata": {},
   "outputs": [
    {
     "data": {
      "text/plain": [
       "0.49086794752263996"
      ]
     },
     "execution_count": 114,
     "metadata": {},
     "output_type": "execute_result"
    }
   ],
   "source": [
    "#Probibilty of less then 50\n",
    "binom.cdf(50, 100, 0.506125)"
   ]
  },
  {
   "cell_type": "code",
   "execution_count": 115,
   "id": "2c871123",
   "metadata": {},
   "outputs": [
    {
     "data": {
      "text/plain": [
       "0.07899425963507985"
      ]
     },
     "execution_count": 115,
     "metadata": {},
     "output_type": "execute_result"
    }
   ],
   "source": [
    "#Probibilty of exactly 50\n",
    "binom.pmf(50, 100, 0.506125)"
   ]
  },
  {
   "cell_type": "markdown",
   "id": "0bd95c31",
   "metadata": {},
   "source": [
    "Probibility of 40"
   ]
  },
  {
   "cell_type": "code",
   "execution_count": 116,
   "id": "146cd161",
   "metadata": {},
   "outputs": [
    {
     "data": {
      "text/plain": [
       "0.9786501256882679"
      ]
     },
     "execution_count": 116,
     "metadata": {},
     "output_type": "execute_result"
    }
   ],
   "source": [
    "#Probibilty of more then 40\n",
    "binom.sf(40, 100, 0.506125)"
   ]
  },
  {
   "cell_type": "code",
   "execution_count": 117,
   "id": "5d30d34f",
   "metadata": {},
   "outputs": [
    {
     "data": {
      "text/plain": [
       "0.02134987431173205"
      ]
     },
     "execution_count": 117,
     "metadata": {},
     "output_type": "execute_result"
    }
   ],
   "source": [
    "#Probibilty of less then 40\n",
    "binom.cdf(40, 100, 0.506125)"
   ]
  },
  {
   "cell_type": "code",
   "execution_count": 118,
   "id": "84b551ae",
   "metadata": {},
   "outputs": [
    {
     "data": {
      "text/plain": [
       "0.00842399091099378"
      ]
     },
     "execution_count": 118,
     "metadata": {},
     "output_type": "execute_result"
    }
   ],
   "source": [
    "#Probibilty of exactly 40\n",
    "binom.pmf(40, 100, 0.506125)"
   ]
  },
  {
   "cell_type": "markdown",
   "id": "c3c3c458",
   "metadata": {},
   "source": [
    "QUESTION 5 - NORMAL DISTRIBUTION"
   ]
  },
  {
   "cell_type": "code",
   "execution_count": 64,
   "id": "fc8f59d5",
   "metadata": {},
   "outputs": [
    {
     "data": {
      "text/plain": [
       "[Text(0.5, 0, 'Rating'),\n",
       " Text(0, 0.5, 'No. of Customers'),\n",
       " Text(0.5, 1.0, 'Transaction Amount')]"
      ]
     },
     "execution_count": 64,
     "metadata": {},
     "output_type": "execute_result"
    },
    {
     "data": {
      "image/png": "[encoded data removed]",
      "text/plain": [
       "<Figure size 640x480 with 1 Axes>"
      ]
     },
     "metadata": {},
     "output_type": "display_data"
    }
   ],
   "source": [
    "#Histogram for transaction amount\n",
    "ax = sns.histplot(customer_df[\"Transaction Amount\"], kde=True, color ='blue')\n",
    "ax.set(xlabel='Rating', ylabel='No. of Customers', title ='Transaction Amount')"
   ]
  },
  {
   "cell_type": "code",
   "execution_count": 65,
   "id": "a98d14d3",
   "metadata": {},
   "outputs": [
    {
     "data": {
      "text/plain": [
       "0.1482557675329642"
      ]
     },
     "execution_count": 65,
     "metadata": {},
     "output_type": "execute_result"
    }
   ],
   "source": [
    "#Transaction Amount - people spending between 100 and 75 usd\n",
    "mu = 50.281659\n",
    "sigma = 27.280464\n",
    "norm.cdf(100, mu, sigma) - norm.cdf(75, mu, sigma)"
   ]
  },
  {
   "cell_type": "code",
   "execution_count": 68,
   "id": "3cb2cbdb",
   "metadata": {},
   "outputs": [
    {
     "data": {
      "text/plain": [
       "0.41056421103118385"
      ]
     },
     "execution_count": 68,
     "metadata": {},
     "output_type": "execute_result"
    }
   ],
   "source": [
    "#Transaction Amount - people spending upto 50 usd\n",
    "mu = 50.281659\n",
    "sigma = 27.280464\n",
    "norm.cdf(60, mu, sigma) - norm.cdf(30, mu, sigma)"
   ]
  },
  {
   "cell_type": "code",
   "execution_count": 69,
   "id": "7c91bdb5",
   "metadata": {},
   "outputs": [
    {
     "data": {
      "text/plain": [
       "0.2286046629261465"
      ]
     },
     "execution_count": 69,
     "metadata": {},
     "output_type": "execute_result"
    }
   ],
   "source": [
    "#Transaction Amount - people spending upto 50 usd\n",
    "mu = 50.281659\n",
    "sigma = 27.280464\n",
    "norm.cdf(30, mu, sigma)"
   ]
  },
  {
   "cell_type": "code",
   "execution_count": 152,
   "id": "2f3c6272",
   "metadata": {},
   "outputs": [
    {
     "data": {
      "text/plain": [
       "0.49588116655619724"
      ]
     },
     "execution_count": 152,
     "metadata": {},
     "output_type": "execute_result"
    }
   ],
   "source": [
    "#Transaction Amount - people spending upto 50 usd\n",
    "mu = 50.281659\n",
    "sigma = 27.280464\n",
    "norm.cdf(50, mu, sigma)"
   ]
  },
  {
   "cell_type": "code",
   "execution_count": 160,
   "id": "1dc8d64d",
   "metadata": {},
   "outputs": [],
   "source": [
    "#We define the range for the IQ values\n",
    "x = np.linspace(0, 100, 1000)\n",
    "#x = np.linspace(the first value of the variable, the last value of the variable, the number of values that we ask python to calculate the probability)\n",
    "\n",
    "#We calculate the probability distribution function for these values\n",
    "\n",
    "pdf_values = norm.pdf(x, mu, sigma)"
   ]
  },
  {
   "cell_type": "code",
   "execution_count": 161,
   "id": "d3c15f09",
   "metadata": {},
   "outputs": [
    {
     "data": {
      "image/png": "[encoded data removed]",
      "text/plain": [
       "<Figure size 800x400 with 1 Axes>"
      ]
     },
     "metadata": {},
     "output_type": "display_data"
    }
   ],
   "source": [
    "#We create the visualisation\n",
    "\n",
    "plt.figure(figsize=(8,4))\n",
    "plt.plot(x, pdf_values, label = customer_df[\"Transaction Amount\"], color = 'blue')\n",
    "\n",
    "#We will mark x <50\n",
    "\n",
    "plt.fill_between(x, pdf_values, where = (x<50), color = 'blue', alpha = 0.05, label = 'IQ <50')\n",
    "\n",
    "plt.title('Transaction Amount Normal Distribution')\n",
    "plt.xlabel('Transaction Amount')\n",
    "plt.ylabel('Probabilities')\n",
    "plt.grid(True)\n",
    "plt.show()"
   ]
  },
  {
   "cell_type": "code",
   "execution_count": null,
   "id": "f75f1a48",
   "metadata": {},
   "outputs": [],
   "source": []
  }
 ],
 "metadata": {
  "kernelspec": {
   "display_name": "Python 3 (ipykernel)",
   "language": "python",
   "name": "python3"
  },
  "language_info": {
   "codemirror_mode": {
    "name": "ipython",
    "version": 3
   },
   "file_extension": ".py",
   "mimetype": "text/x-python",
   "name": "python",
   "nbconvert_exporter": "python",
   "pygments_lexer": "ipython3",
   "version": "3.11.7"
  }
 },
 "nbformat": 4,
 "nbformat_minor": 5
}
